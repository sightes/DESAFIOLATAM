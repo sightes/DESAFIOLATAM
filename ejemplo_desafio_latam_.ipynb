{
  "nbformat": 4,
  "nbformat_minor": 0,
  "metadata": {
    "colab": {
      "provenance": [],
      "authorship_tag": "ABX9TyOlTbKOLDL97an8G1wJbdYj",
      "include_colab_link": true
    },
    "kernelspec": {
      "name": "python3",
      "display_name": "Python 3"
    },
    "language_info": {
      "name": "python"
    }
  },
  "cells": [
    {
      "cell_type": "markdown",
      "metadata": {
        "id": "view-in-github",
        "colab_type": "text"
      },
      "source": [
        "<a href=\"https://colab.research.google.com/github/sightes/DESAFIOLATAM/blob/main/ejemplo_desafio_latam_.ipynb\" target=\"_parent\"><img src=\"https://colab.research.google.com/assets/colab-badge.svg\" alt=\"Open In Colab\"/></a>"
      ]
    },
    {
      "cell_type": "code",
      "source": [
        "%%capture\n",
        "!pip install factor_analyzer\n",
        "!pip install feature_engine"
      ],
      "metadata": {
        "id": "fflKeRjK4O0R"
      },
      "execution_count": null,
      "outputs": []
    },
    {
      "cell_type": "code",
      "source": [
        "import numpy as np\n",
        "from sklearn.preprocessing import FunctionTransformer\n",
        "import pandas as pd \n",
        "from sklearn.preprocessing import FunctionTransformer\n",
        "import utils\n",
        "import numpy as np\n",
        "\n",
        "def multiplicar(i):\n",
        "   return(2*i)\n",
        "\n",
        "transformer = FunctionTransformer(multiplicar)\n",
        "X = np.array([[0, 1], [2, 3]])\n",
        "transformer.transform(X)"
      ],
      "metadata": {
        "id": "7LGc9zFV7FjZ"
      },
      "execution_count": null,
      "outputs": []
    },
    {
      "cell_type": "code",
      "execution_count": 16,
      "metadata": {
        "colab": {
          "base_uri": "https://localhost:8080/",
          "height": 112
        },
        "id": "tGOXCjgj3-wS",
        "outputId": "600e528e-020a-4a92-cfaa-24b1d837b0fe"
      },
      "outputs": [
        {
          "output_type": "execute_result",
          "data": {
            "text/plain": [
              "                                             content  \\\n",
              "0  http://twitpic.com/4w7d2 bwahahahahahaha I am ...   \n",
              "1  #millsthemusical  @lauzzaa i hope youve listen...   \n",
              "\n",
              "                                         content_mod  \n",
              "0                        bwahahahahahaha I am ...     \n",
              "1  #millsthemusical  @lauzzaa i hope youve listen...  "
            ],
            "text/html": [
              "\n",
              "  <div id=\"df-4ef75c10-c69c-4f16-bfbb-1903d8399fc6\">\n",
              "    <div class=\"colab-df-container\">\n",
              "      <div>\n",
              "<style scoped>\n",
              "    .dataframe tbody tr th:only-of-type {\n",
              "        vertical-align: middle;\n",
              "    }\n",
              "\n",
              "    .dataframe tbody tr th {\n",
              "        vertical-align: top;\n",
              "    }\n",
              "\n",
              "    .dataframe thead th {\n",
              "        text-align: right;\n",
              "    }\n",
              "</style>\n",
              "<table border=\"1\" class=\"dataframe\">\n",
              "  <thead>\n",
              "    <tr style=\"text-align: right;\">\n",
              "      <th></th>\n",
              "      <th>content</th>\n",
              "      <th>content_mod</th>\n",
              "    </tr>\n",
              "  </thead>\n",
              "  <tbody>\n",
              "    <tr>\n",
              "      <th>0</th>\n",
              "      <td>http://twitpic.com/4w7d2 bwahahahahahaha I am ...</td>\n",
              "      <td>bwahahahahahaha I am ...</td>\n",
              "    </tr>\n",
              "    <tr>\n",
              "      <th>1</th>\n",
              "      <td>#millsthemusical  @lauzzaa i hope youve listen...</td>\n",
              "      <td>#millsthemusical  @lauzzaa i hope youve listen...</td>\n",
              "    </tr>\n",
              "  </tbody>\n",
              "</table>\n",
              "</div>\n",
              "      <button class=\"colab-df-convert\" onclick=\"convertToInteractive('df-4ef75c10-c69c-4f16-bfbb-1903d8399fc6')\"\n",
              "              title=\"Convert this dataframe to an interactive table.\"\n",
              "              style=\"display:none;\">\n",
              "        \n",
              "  <svg xmlns=\"http://www.w3.org/2000/svg\" height=\"24px\"viewBox=\"0 0 24 24\"\n",
              "       width=\"24px\">\n",
              "    <path d=\"M0 0h24v24H0V0z\" fill=\"none\"/>\n",
              "    <path d=\"M18.56 5.44l.94 2.06.94-2.06 2.06-.94-2.06-.94-.94-2.06-.94 2.06-2.06.94zm-11 1L8.5 8.5l.94-2.06 2.06-.94-2.06-.94L8.5 2.5l-.94 2.06-2.06.94zm10 10l.94 2.06.94-2.06 2.06-.94-2.06-.94-.94-2.06-.94 2.06-2.06.94z\"/><path d=\"M17.41 7.96l-1.37-1.37c-.4-.4-.92-.59-1.43-.59-.52 0-1.04.2-1.43.59L10.3 9.45l-7.72 7.72c-.78.78-.78 2.05 0 2.83L4 21.41c.39.39.9.59 1.41.59.51 0 1.02-.2 1.41-.59l7.78-7.78 2.81-2.81c.8-.78.8-2.07 0-2.86zM5.41 20L4 18.59l7.72-7.72 1.47 1.35L5.41 20z\"/>\n",
              "  </svg>\n",
              "      </button>\n",
              "      \n",
              "  <style>\n",
              "    .colab-df-container {\n",
              "      display:flex;\n",
              "      flex-wrap:wrap;\n",
              "      gap: 12px;\n",
              "    }\n",
              "\n",
              "    .colab-df-convert {\n",
              "      background-color: #E8F0FE;\n",
              "      border: none;\n",
              "      border-radius: 50%;\n",
              "      cursor: pointer;\n",
              "      display: none;\n",
              "      fill: #1967D2;\n",
              "      height: 32px;\n",
              "      padding: 0 0 0 0;\n",
              "      width: 32px;\n",
              "    }\n",
              "\n",
              "    .colab-df-convert:hover {\n",
              "      background-color: #E2EBFA;\n",
              "      box-shadow: 0px 1px 2px rgba(60, 64, 67, 0.3), 0px 1px 3px 1px rgba(60, 64, 67, 0.15);\n",
              "      fill: #174EA6;\n",
              "    }\n",
              "\n",
              "    [theme=dark] .colab-df-convert {\n",
              "      background-color: #3B4455;\n",
              "      fill: #D2E3FC;\n",
              "    }\n",
              "\n",
              "    [theme=dark] .colab-df-convert:hover {\n",
              "      background-color: #434B5C;\n",
              "      box-shadow: 0px 1px 3px 1px rgba(0, 0, 0, 0.15);\n",
              "      filter: drop-shadow(0px 1px 2px rgba(0, 0, 0, 0.3));\n",
              "      fill: #FFFFFF;\n",
              "    }\n",
              "  </style>\n",
              "\n",
              "      <script>\n",
              "        const buttonEl =\n",
              "          document.querySelector('#df-4ef75c10-c69c-4f16-bfbb-1903d8399fc6 button.colab-df-convert');\n",
              "        buttonEl.style.display =\n",
              "          google.colab.kernel.accessAllowed ? 'block' : 'none';\n",
              "\n",
              "        async function convertToInteractive(key) {\n",
              "          const element = document.querySelector('#df-4ef75c10-c69c-4f16-bfbb-1903d8399fc6');\n",
              "          const dataTable =\n",
              "            await google.colab.kernel.invokeFunction('convertToInteractive',\n",
              "                                                     [key], {});\n",
              "          if (!dataTable) return;\n",
              "\n",
              "          const docLinkHtml = 'Like what you see? Visit the ' +\n",
              "            '<a target=\"_blank\" href=https://colab.research.google.com/notebooks/data_table.ipynb>data table notebook</a>'\n",
              "            + ' to learn more about interactive tables.';\n",
              "          element.innerHTML = '';\n",
              "          dataTable['output_type'] = 'display_data';\n",
              "          await google.colab.output.renderOutput(dataTable, element);\n",
              "          const docLink = document.createElement('div');\n",
              "          docLink.innerHTML = docLinkHtml;\n",
              "          element.appendChild(docLink);\n",
              "        }\n",
              "      </script>\n",
              "    </div>\n",
              "  </div>\n",
              "  "
            ]
          },
          "metadata": {},
          "execution_count": 16
        }
      ],
      "source": [
        "df=pd.DataFrame([['http://twitpic.com/4w7d2 bwahahahahahaha I am ...'],\n",
        "                 ['#millsthemusical  @lauzzaa i hope youve listened to some of these songs, they are so funny :L. i still havent heard about ticks  x']]\n",
        "                 ,columns=['content'])\n",
        "\n",
        "\n",
        "chars_to_replace = [\n",
        "                        ('ï¿½',''),\n",
        "                        ('&quot;',''),\n",
        "                        ('&lt;3','<3'), \n",
        "                        ('&lt;/3','</3'), \n",
        "                        ('&amp;','&'),\n",
        "                        ('&gt;','>'),\n",
        "                        ('&lt;','<')\n",
        "                    ]\n",
        "\n",
        "transformer=FunctionTransformer(utils.remove_links, kw_args={'var_name': 'content', 'new_var_name': 'content_mod'})\n",
        "\n",
        "transformer.transform(df)"
      ]
    },
    {
      "cell_type": "code",
      "source": [
        "preprocessing = Pipeline(steps=[\n",
        "                ('rc', FunctionTransformer(utils.remove_chars, kw_args={'var_name': 'content', 'new_var_name': 'content_mod', 'char_list': chars_to_replace})),\n",
        "                ('ra', FunctionTransformer(utils.remove_arrobas, kw_args= {'var_name':'content_mod', 'new_var_name': 'content_mod'})),\n",
        "                ('rl', FunctionTransformer(utils.remove_links, kw_args={'var_name': 'content_mod', 'new_var_name': 'content_mod'})),\n",
        "                # ('rsw', RemoveStopWords(text_columns = ['content_mod'])),\n",
        "                ('lt', LemmantizerTransformer(text_columns = [\"content_mod\"], stemmer='wnl')),\n",
        "])\n",
        "\n",
        "# Si se quiere ver los resultados de las limpiezas de los textos, comentar la linea de ColumnSelectedTransformer y luego ver el dataframe. También se pueden ver los reportes generados en csv y txt en la carpeta raíz.\n",
        "\n",
        "feature_extraction = Pipeline(steps=[\n",
        "                ('fet_1', FeatureExtractionTwitts(text_column=\"content\",features_to_extract=[\"arrobas_count\", \"hashtag_count\", \"is_reply\", \"is_rt\", \"twitt_length\"])),\n",
        "                ('fet_2', FeatureExtractionTwitts(text_column=\"content_mod\",features_to_extract = [\"subjectivity\", \"polarity\"])),\n",
        "                ('vec', Vectorizer(vect_type='tfid', text_column=\"content_mod\", min_df=15, max_df=0.7, ngram_range=(1,3))),\n",
        "                ('fs', ColumnSelectedTransformer(vars_prefix='var_'))\n",
        "])"
      ],
      "metadata": {
        "colab": {
          "base_uri": "https://localhost:8080/",
          "height": 288
        },
        "id": "D1_AFico9A12",
        "outputId": "b4c0f4fe-083b-4d00-91db-57fea66d1788"
      },
      "execution_count": 17,
      "outputs": [
        {
          "output_type": "error",
          "ename": "NameError",
          "evalue": "ignored",
          "traceback": [
            "\u001b[0;31m---------------------------------------------------------------------------\u001b[0m",
            "\u001b[0;31mNameError\u001b[0m                                 Traceback (most recent call last)",
            "\u001b[0;32m<ipython-input-17-4491c01cbfa1>\u001b[0m in \u001b[0;36m<module>\u001b[0;34m\u001b[0m\n\u001b[0;32m----> 1\u001b[0;31m preprocessing = Pipeline(steps=[\n\u001b[0m\u001b[1;32m      2\u001b[0m                 \u001b[0;34m(\u001b[0m\u001b[0;34m'rc'\u001b[0m\u001b[0;34m,\u001b[0m \u001b[0mFunctionTransformer\u001b[0m\u001b[0;34m(\u001b[0m\u001b[0mutils\u001b[0m\u001b[0;34m.\u001b[0m\u001b[0mremove_chars\u001b[0m\u001b[0;34m,\u001b[0m \u001b[0mkw_args\u001b[0m\u001b[0;34m=\u001b[0m\u001b[0;34m{\u001b[0m\u001b[0;34m'var_name'\u001b[0m\u001b[0;34m:\u001b[0m \u001b[0;34m'content'\u001b[0m\u001b[0;34m,\u001b[0m \u001b[0;34m'new_var_name'\u001b[0m\u001b[0;34m:\u001b[0m \u001b[0;34m'content_mod'\u001b[0m\u001b[0;34m,\u001b[0m \u001b[0;34m'char_list'\u001b[0m\u001b[0;34m:\u001b[0m \u001b[0mchars_to_replace\u001b[0m\u001b[0;34m}\u001b[0m\u001b[0;34m)\u001b[0m\u001b[0;34m)\u001b[0m\u001b[0;34m,\u001b[0m\u001b[0;34m\u001b[0m\u001b[0;34m\u001b[0m\u001b[0m\n\u001b[1;32m      3\u001b[0m                 \u001b[0;34m(\u001b[0m\u001b[0;34m'ra'\u001b[0m\u001b[0;34m,\u001b[0m \u001b[0mFunctionTransformer\u001b[0m\u001b[0;34m(\u001b[0m\u001b[0mutils\u001b[0m\u001b[0;34m.\u001b[0m\u001b[0mremove_arrobas\u001b[0m\u001b[0;34m,\u001b[0m \u001b[0mkw_args\u001b[0m\u001b[0;34m=\u001b[0m \u001b[0;34m{\u001b[0m\u001b[0;34m'var_name'\u001b[0m\u001b[0;34m:\u001b[0m\u001b[0;34m'content_mod'\u001b[0m\u001b[0;34m,\u001b[0m \u001b[0;34m'new_var_name'\u001b[0m\u001b[0;34m:\u001b[0m \u001b[0;34m'content_mod'\u001b[0m\u001b[0;34m}\u001b[0m\u001b[0;34m)\u001b[0m\u001b[0;34m)\u001b[0m\u001b[0;34m,\u001b[0m\u001b[0;34m\u001b[0m\u001b[0;34m\u001b[0m\u001b[0m\n\u001b[1;32m      4\u001b[0m                 \u001b[0;34m(\u001b[0m\u001b[0;34m'rl'\u001b[0m\u001b[0;34m,\u001b[0m \u001b[0mFunctionTransformer\u001b[0m\u001b[0;34m(\u001b[0m\u001b[0mutils\u001b[0m\u001b[0;34m.\u001b[0m\u001b[0mremove_links\u001b[0m\u001b[0;34m,\u001b[0m \u001b[0mkw_args\u001b[0m\u001b[0;34m=\u001b[0m\u001b[0;34m{\u001b[0m\u001b[0;34m'var_name'\u001b[0m\u001b[0;34m:\u001b[0m \u001b[0;34m'content_mod'\u001b[0m\u001b[0;34m,\u001b[0m \u001b[0;34m'new_var_name'\u001b[0m\u001b[0;34m:\u001b[0m \u001b[0;34m'content_mod'\u001b[0m\u001b[0;34m}\u001b[0m\u001b[0;34m)\u001b[0m\u001b[0;34m)\u001b[0m\u001b[0;34m,\u001b[0m\u001b[0;34m\u001b[0m\u001b[0;34m\u001b[0m\u001b[0m\n\u001b[1;32m      5\u001b[0m                 \u001b[0;31m# ('rsw', RemoveStopWords(text_columns = ['content_mod'])),\u001b[0m\u001b[0;34m\u001b[0m\u001b[0;34m\u001b[0m\u001b[0m\n",
            "\u001b[0;31mNameError\u001b[0m: name 'Pipeline' is not defined"
          ]
        }
      ]
    }
  ]
}